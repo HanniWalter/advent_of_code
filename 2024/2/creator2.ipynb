{
 "cells": [
  {
   "cell_type": "code",
   "execution_count": 1,
   "metadata": {},
   "outputs": [
    {
     "name": "stderr",
     "output_type": "stream",
     "text": [
      "/usr/lib/python3/dist-packages/scipy/__init__.py:146: UserWarning: A NumPy version >=1.17.3 and <1.25.0 is required for this version of SciPy (detected version 1.26.4\n",
      "  warnings.warn(f\"A NumPy version >={np_minversion} and <{np_maxversion}\"\n"
     ]
    }
   ],
   "source": [
    "import cellular_automata as ca\n",
    "import PIL\n"
   ]
  },
  {
   "cell_type": "code",
   "execution_count": 2,
   "metadata": {},
   "outputs": [],
   "source": [
    "A = ca.Automata(\"name=AoC3\")\n"
   ]
  },
  {
   "cell_type": "code",
   "execution_count": 3,
   "metadata": {},
   "outputs": [],
   "source": [
    "\n",
    "#add input states\n",
    "\n",
    "A.add_state(\"0\", color=[0,0,30])\n",
    "A.add_state(\"1\", color=[0,0,55])\n",
    "A.add_state(\"2\", color=[0,0,80])\n",
    "A.add_state(\"3\", color=[0,0,105])\n",
    "A.add_state(\"4\", color=[0,0,130])\n",
    "A.add_state(\"5\", color=[0,0,155])\n",
    "A.add_state(\"6\", color=[0,0,180])\n",
    "A.add_state(\"7\", color=[0,0,205])\n",
    "A.add_state(\"8\", color=[0,0,230])\n",
    "A.add_state(\"9\", color=[0,0,255])\n"
   ]
  },
  {
   "cell_type": "code",
   "execution_count": null,
   "metadata": {},
   "outputs": [
    {
     "name": "stdout",
     "output_type": "stream",
     "text": [
      "8 '7' [0, 0, 205]\n"
     ]
    }
   ],
   "source": [
    "input = \"input\"\n",
    "with open(input, 'r') as f:\n",
    "    lines = f.readlines()\n",
    "y = len(lines)\n",
    "max_x = 0\n",
    "for line in lines:\n",
    "    if len(line)-1 > max_x:\n",
    "        max_x = len(line)-1\n",
    "\n",
    "\n",
    "boarder = 20\n",
    "\n",
    "A.create_field(max_x+boarder*2,y+boarder*2)\n",
    "\n",
    "for i,line in enumerate(lines):\n",
    "    for j,char in enumerate(line):\n",
    "        if char == \"\\n\":\n",
    "            continue\n",
    "        if char == \" \":\n",
    "            char = \"EMPTY\"\n",
    "        A.set_cell(boarder+j, boarder+i, char)\n",
    "\n",
    "pic = A.render_pixel()\n",
    "\n",
    "print(A.pixel_to_string(20,20))"
   ]
  },
  {
   "cell_type": "code",
   "execution_count": 5,
   "metadata": {},
   "outputs": [],
   "source": [
    "if True:\n",
    "    #transform 2digits to single digit\n",
    "    for i in range(100):\n",
    "        A.add_state(\"A_\"+str(i), color=[0,0,i*2])\n",
    "    for i in range(10):\n",
    "        A.transform_when_E_W(str(i), \"A_\"+str(i), \"EMPTY\", \"EMPTY\")\n",
    "    for i in range(10):\n",
    "        for j in range(10):\n",
    "            combined = i*10+j\n",
    "            A.transform_when_W(str(j), \"A_\"+str(combined), str(i))\n",
    "            A.transform_when_E(str(i), \"A_\"+str(combined), str(j))\n",
    "\n",
    "    for i in range(100):\n",
    "        A.just_transform(\"A_\"+str(i), \"EMPTY\")\n",
    "\n",
    "    A.add_state(\"wrong\", color=[255,255,255])\n",
    "    A.add_state(\"smaller\", color=[155,0,155])\n",
    "    A.add_state(\"higher\", color=[255,0,255])\n",
    "    for w in range(100):\n",
    "        for e in range(100):\n",
    "            cell_new = \"wrong\"\n",
    "            diff = e-w\n",
    "            if 0<diff<4 :\n",
    "                cell_new = \"smaller\"\n",
    "            elif -4<diff<0:\n",
    "                cell_new = \"higher\"\n",
    "            \n",
    "            A.transform_when_E_W(\"EMPTY\" ,cell_new ,\"A_\"+str(w), \"A_\"+str(e))\n",
    "    A.add_state(\"left_marker\", color=[0,255,255])\n",
    "    for i in range(10):\n",
    "        A.transform_when_E_W(\"EMPTY\", \"left_marker\", str(i), \"EMPTY\")\n",
    "\n",
    "    for i in range(4):\n",
    "        A.add_state(\"left_smaller_\"+str(i), color=[0,255,255])\n",
    "        A.add_state(\"left_higher_\"+str(i), color=[0,255,255])\n",
    "        A.add_state(\"left_wrong_\"+str(i), color=[0,255,255]) \n",
    "\n",
    "        A.transform_when_E(\"left_smaller_\"+str(i),\"left_wrong_0\" ,\"wrong\")\n",
    "        A.transform_when_E(\"left_smaller_\"+str(i),\"left_wrong_0\" ,\"higher\")\n",
    "        A.transform_when_E(\"left_smaller_\"+str(i),\"left_smaller_0\" ,\"smaller\")\n",
    "        A.transform_when_E(\"left_higher_\"+str(i),\"left_wrong_0\" ,\"wrong\")\n",
    "        A.transform_when_E(\"left_higher_\"+str(i),\"left_wrong_0\" ,\"smaller\")\n",
    "        A.transform_when_E(\"left_higher_\"+str(i),\"left_higher_0\" ,\"higher\")\n",
    "        A.transform_when_E(\"left_wrong_\"+str(i), \"left_wrong_0\" ,\"wrong\")\n",
    "        A.transform_when_E(\"left_wrong_\"+str(i), \"left_wrong_0\" ,\"smaller\")\n",
    "        A.transform_when_E(\"left_wrong_\"+str(i), \"left_wrong_0\" ,\"higher\")\n",
    "\n",
    "    A.transform_when_E(\"left_marker\", \"left_smaller_0\", \"smaller\")\n",
    "    A.transform_when_E(\"left_marker\", \"left_higher_0\", \"higher\")\n",
    "    A.transform_when_E(\"left_marker\", \"left_wrong_0\", \"wrong\")\n",
    "    \n",
    "    for i in range(3):\n",
    "        A.just_transform(\"left_smaller_\"+str(i), \"left_smaller_\"+str(i+1))\n",
    "        A.just_transform(\"left_higher_\"+str(i), \"left_higher_\"+str(i+1))\n",
    "        A.just_transform(\"left_wrong_\"+str(i), \"left_wrong_\"+str(i+1))\n",
    "\n",
    "    A.add_state(\"Token\", color=[255,0,255])\n",
    "    A.add_state(\"No_Token\", color=[155,0,155])\n",
    "    A.just_transform(\"left_smaller_3\", \"Token\")\n",
    "    A.just_transform(\"left_higher_3\", \"Token\")\n",
    "    A.just_transform(\"left_wrong_3\", \"No_Token\")\n",
    "\n",
    "    A.just_transform(\"wrong\", \"EMPTY\")\n",
    "    A.just_transform(\"smaller\", \"EMPTY\")\n",
    "    A.just_transform(\"higher\", \"EMPTY\")\n",
    "    A.transform_when_E(\"EMPTY\", \"wrong\", \"wrong\")\n",
    "    A.transform_when_E(\"EMPTY\", \"smaller\", \"smaller\")\n",
    "    A.transform_when_E(\"EMPTY\", \"higher\", \"higher\")    \n",
    "    \n",
    "   \n",
    "\n",
    "    #counting\n",
    "    for i in range(11):\n",
    "        A.add_state(\"c_\"+str(i), color=[0,25*i,25*i])\n",
    "    A.transform_when_S(\"EMPTY\", \"c_0\", \"left_marker\")\n",
    "    for i in range(10):\n",
    "        A.transform_when_E(\"c_\"+str(i), \"c_\"+str(i+1), \"c_10\")\n",
    "    A.transform_when_E(\"EMPTY\", \"c_1\", \"c_10\")\n",
    "    A.just_transform(\"c_10\", \"c_0\")\n",
    "    for i in range(10):\n",
    "        A.transform_when_S(\"c_\"+str(i), \"c_\"+str(i+1), \"Token\")\n",
    "    \n",
    "    #moving up\n",
    "    A.transform_when_S(\"EMPTY\", \"Token\", \"Token\")\n",
    "    A.transform_when_S(\"EMPTY\", \"No_Token\", \"No_Token\")\n",
    "    A.transform_when_N(\"Token\", \"EMPTY\", \"EMPTY\")\n",
    "    A.transform_when_N(\"No_Token\", \"EMPTY\", \"EMPTY\")\n",
    "    \n",
    "    for i in range(11):\n",
    "        A.transform_when_N(\"Token\", \"EMPTY\", \"c_\"+str(i))\n",
    "        A.transform_when_N(\"No_Token\", \"EMPTY\", \"c_\"+str(i)) \n",
    "    #finish"
   ]
  },
  {
   "cell_type": "code",
   "execution_count": 6,
   "metadata": {},
   "outputs": [],
   "source": [
    "A.step()\n"
   ]
  },
  {
   "cell_type": "code",
   "execution_count": null,
   "metadata": {},
   "outputs": [
    {
     "name": "stderr",
     "output_type": "stream",
     "text": [
      "kf.service.services: KApplicationTrader: mimeType \"x-scheme-handler/file\" not found\n",
      "kf.service.services: KApplicationTrader: mimeType \"x-scheme-handler/file\" not found\n",
      "org.kde.kdegraphics.gwenview.lib: Unresolved mime type  \"image/x-mng\"\n",
      "org.kde.kdegraphics.gwenview.lib: Unresolved raw mime type  \"image/x-nikon-nrw\"\n",
      "org.kde.kdegraphics.gwenview.lib: Unresolved raw mime type  \"image/x-samsung-srw\"\n"
     ]
    }
   ],
   "source": [
    "A.render_pixel().show()"
   ]
  }
 ],
 "metadata": {
  "kernelspec": {
   "display_name": "Python 3",
   "language": "python",
   "name": "python3"
  },
  "language_info": {
   "codemirror_mode": {
    "name": "ipython",
    "version": 3
   },
   "file_extension": ".py",
   "mimetype": "text/x-python",
   "name": "python",
   "nbconvert_exporter": "python",
   "pygments_lexer": "ipython3",
   "version": "3.10.12"
  }
 },
 "nbformat": 4,
 "nbformat_minor": 2
}
